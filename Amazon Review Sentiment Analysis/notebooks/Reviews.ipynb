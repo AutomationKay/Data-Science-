{
 "cells": [
  {
   "attachments": {},
   "cell_type": "markdown",
   "metadata": {},
   "source": [
    "## Amazon Customer Review Sentiment Analysis"
   ]
  },
  {
   "cell_type": "code",
   "execution_count": null,
   "metadata": {},
   "outputs": [],
   "source": []
  },
  {
   "cell_type": "code",
   "execution_count": 55,
   "metadata": {},
   "outputs": [
    {
     "name": "stderr",
     "output_type": "stream",
     "text": [
      "[nltk_data] Downloading package wordnet to\n",
      "[nltk_data]     C:\\Users\\bartl\\AppData\\Roaming\\nltk_data...\n",
      "[nltk_data]   Package wordnet is already up-to-date!\n",
      "[nltk_data] Downloading package stopwords to\n",
      "[nltk_data]     C:\\Users\\bartl\\AppData\\Roaming\\nltk_data...\n",
      "[nltk_data]   Package stopwords is already up-to-date!\n",
      "[nltk_data] Downloading package punkt to\n",
      "[nltk_data]     C:\\Users\\bartl\\AppData\\Roaming\\nltk_data...\n",
      "[nltk_data]   Unzipping tokenizers\\punkt.zip.\n"
     ]
    }
   ],
   "source": [
    "#Core packages\n",
    "import pandas as pd\n",
    "import numpy as np\n",
    "import matplotlib.pyplot as plt\n",
    "from textblob import TextBlob   \n",
    "import re\n",
    "import seaborn as sns\n",
    "import nltk\n",
    "from nltk import word_tokenize\n",
    "from nltk.corpus import stopwords\n",
    "from nltk.stem import PorterStemmer\n",
    "nltk.download('wordnet')\n",
    "nltk.download('stopwords')\n",
    "nltk.download('punkt')\n",
    "#Packages for model\n",
    "\n",
    "\n",
    "#Packages for evaluation\n",
    "\n",
    "\n",
    "#Filters and display options\n",
    "import warnings\n",
    "warnings.filterwarnings('ignore')\n",
    "warnings.warn(\"text too long\")\n",
    "pd.set_option('display.max_columns', None)\n",
    "%matplotlib inline\n",
    "stop_words = set(stopwords.words('english'))"
   ]
  },
  {
   "cell_type": "code",
   "execution_count": 3,
   "metadata": {},
   "outputs": [],
   "source": [
    "#Starting off by importing the csv file and reading the data\n",
    "reviews = pd.read_csv('../data/amazon_reviews.csv', index_col=0)"
   ]
  },
  {
   "cell_type": "code",
   "execution_count": 32,
   "metadata": {},
   "outputs": [],
   "source": [
    "#Creating a function for data frame summary statistics and viewing the data frame\n",
    "def overview(df, head=5, tail=5):\n",
    "   print(\"  TYPES   \".center(82, '-'))\n",
    "   print(df.dtypes)\n",
    "   \n",
    "   print(\"  SHAPE   \".center(82,'-'))\n",
    "   print(f\"Rows: {df.shape[0]}\")\n",
    "   print(f\"Columns: {df.shape[1]}\")\n",
    "   \n",
    "   print(\"  DUPLICATES  \".center(82,'-'))\n",
    "   print(df.duplicated().sum())\n",
    "   \n",
    "   print(\"  NaN VALUES\".center(82,'-'))\n",
    "   print(df.isna().sum())\n",
    "   \n",
    "   print(\"  QUANTILES   \".center(82,'-'))\n",
    "   print(df.quantile([0,0.05,0.50,0.95,0.99,1]).T)\n",
    "   \n",
    "   print(\"  DATAFRAME PREVIEW   \".center(82, '-'))\n",
    "   print(df.head(n=5))\n",
    "   print(df.tail(n=5))"
   ]
  },
  {
   "cell_type": "code",
   "execution_count": 42,
   "metadata": {},
   "outputs": [
    {
     "name": "stdout",
     "output_type": "stream",
     "text": [
      "------------------------------------  TYPES   ------------------------------------\n",
      "reviewerName             object\n",
      "overall                  object\n",
      "reviewText               object\n",
      "reviewTime               object\n",
      "day_diff                  int64\n",
      "helpful_yes               int64\n",
      "helpful_no                int64\n",
      "total_vote                int64\n",
      "score_pos_neg_diff        int64\n",
      "score_average_rating    float64\n",
      "wilson_lower_bound      float64\n",
      "dtype: object\n",
      "------------------------------------  SHAPE   ------------------------------------\n",
      "Rows: 4914\n",
      "Columns: 11\n",
      "----------------------------------  DUPLICATES  ----------------------------------\n",
      "0\n",
      "-----------------------------------  NaN VALUES-----------------------------------\n",
      "reviewerName            0\n",
      "overall                 0\n",
      "reviewText              0\n",
      "reviewTime              0\n",
      "day_diff                0\n",
      "helpful_yes             0\n",
      "helpful_no              0\n",
      "total_vote              0\n",
      "score_pos_neg_diff      0\n",
      "score_average_rating    0\n",
      "wilson_lower_bound      0\n",
      "dtype: int64\n",
      "----------------------------------  QUANTILES   ----------------------------------\n",
      "                       0.00  0.05   0.50        0.95       0.99         1.00\n",
      "day_diff                1.0  98.0  431.0  747.350000  943.00000  1064.000000\n",
      "helpful_yes             0.0   0.0    0.0    1.000000    3.00000  1952.000000\n",
      "helpful_no              0.0   0.0    0.0    0.000000    2.00000   183.000000\n",
      "total_vote              0.0   0.0    0.0    1.000000    4.00000  2020.000000\n",
      "score_pos_neg_diff   -130.0   0.0    0.0    1.000000    2.00000  1884.000000\n",
      "score_average_rating    0.0   0.0    0.0    1.000000    1.00000     1.000000\n",
      "wilson_lower_bound      0.0   0.0    0.0    0.206549    0.34238     0.957544\n",
      "------------------------------  DATAFRAME PREVIEW   ------------------------------\n",
      "   reviewerName   overall                                         reviewText  \\\n",
      "0    randomName  Positive                                         No issues.   \n",
      "1          0mie  Positive  Purchased this for my device, it worked as adv...   \n",
      "2           1K3  Positive  it works as expected. I should have sprung for...   \n",
      "3           1m2  Positive  This think has worked out great.Had a diff. br...   \n",
      "4  2&amp;1/2Men  Positive  Bought it with Retail Packaging, arrived legit...   \n",
      "\n",
      "   reviewTime  day_diff  helpful_yes  helpful_no  total_vote  \\\n",
      "0  2014-07-23       138            0           0           0   \n",
      "1  2013-10-25       409            0           0           0   \n",
      "2  2012-12-23       715            0           0           0   \n",
      "3  2013-11-21       382            0           0           0   \n",
      "4  2013-07-13       513            0           0           0   \n",
      "\n",
      "   score_pos_neg_diff  score_average_rating  wilson_lower_bound  \n",
      "0                   0                   0.0                 0.0  \n",
      "1                   0                   0.0                 0.0  \n",
      "2                   0                   0.0                 0.0  \n",
      "3                   0                   0.0                 0.0  \n",
      "4                   0                   0.0                 0.0  \n",
      "     reviewerName   overall  \\\n",
      "4910       ZM \"J\"  Negative   \n",
      "4911           Zo  Positive   \n",
      "4912    Z S Liske  Positive   \n",
      "4913     Z Taylor  Positive   \n",
      "4914          Zza  Positive   \n",
      "\n",
      "                                             reviewText  reviewTime  day_diff  \\\n",
      "4910  I bought this Sandisk 16GB Class 10 to use wit...  2013-07-23       503   \n",
      "4911  Used this for extending the capabilities of my...  2013-08-22       473   \n",
      "4912  Great card that is very fast and reliable. It ...  2014-03-31       252   \n",
      "4913  Good amount of space for the stuff I want to d...  2013-09-16       448   \n",
      "4914  I've heard bad things about this 64gb Micro SD...  2014-02-01       310   \n",
      "\n",
      "      helpful_yes  helpful_no  total_vote  score_pos_neg_diff  \\\n",
      "4910            0           0           0                   0   \n",
      "4911            0           0           0                   0   \n",
      "4912            0           0           0                   0   \n",
      "4913            0           0           0                   0   \n",
      "4914            0           0           0                   0   \n",
      "\n",
      "      score_average_rating  wilson_lower_bound  \n",
      "4910                   0.0                 0.0  \n",
      "4911                   0.0                 0.0  \n",
      "4912                   0.0                 0.0  \n",
      "4913                   0.0                 0.0  \n",
      "4914                   0.0                 0.0  \n"
     ]
    }
   ],
   "source": [
    "#Calling the function\n",
    "overview(reviews)"
   ]
  },
  {
   "attachments": {},
   "cell_type": "markdown",
   "metadata": {},
   "source": [
    "Based on the overview function call, we can see that most of the data frame columns are either int or float types. I can also see that there are 4915 rows spanning across 12 columns of data. As for null values there appear to only be 2, so there won't be much cleaning up to do of null values in this data set at first glance. I'm also viewing the first 5 and last 5 rows of the data frame to get a general understanding of what's contained in the data. Based on the nature of the data, it looks like the 'overall' column can be used as the target variable. The float type will be replaced with string values, 0-2 will be seen as negative, 3 will be neutral and 4-5 will be positive."
   ]
  },
  {
   "attachments": {},
   "cell_type": "markdown",
   "metadata": {},
   "source": [
    "## Step 1:\n",
    "Remove any NaN values"
   ]
  },
  {
   "cell_type": "code",
   "execution_count": 39,
   "metadata": {},
   "outputs": [
    {
     "data": {
      "text/plain": [
       "0      randomName\n",
       "1            0mie\n",
       "2             1K3\n",
       "3             1m2\n",
       "4    2&amp;1/2Men\n",
       "Name: reviewerName, dtype: object"
      ]
     },
     "execution_count": 39,
     "metadata": {},
     "output_type": "execute_result"
    }
   ],
   "source": [
    "#Taking a look at the NaN value before replacing it \n",
    "reviews['reviewerName'].head()"
   ]
  },
  {
   "attachments": {},
   "cell_type": "markdown",
   "metadata": {},
   "source": [
    "Since the only NaN value in this column is a customer name, we will assign a random name to the customer. This step is be taken since the reviewernames have no affect on our dataset. "
   ]
  },
  {
   "cell_type": "code",
   "execution_count": 38,
   "metadata": {},
   "outputs": [],
   "source": [
    "reviews['reviewerName'].fillna('randomName', inplace=True)"
   ]
  },
  {
   "attachments": {},
   "cell_type": "markdown",
   "metadata": {},
   "source": [
    "Next up is the reviewText column, since the contents of this column are going to be used later to perform sentiment analysis, any NaN values here will have to be dropped instead of replaced. To do this, I'm going to drop the entire row that contains the NaN value. "
   ]
  },
  {
   "cell_type": "code",
   "execution_count": 41,
   "metadata": {},
   "outputs": [],
   "source": [
    "reviews.dropna(inplace=True)"
   ]
  },
  {
   "attachments": {},
   "cell_type": "markdown",
   "metadata": {},
   "source": [
    "## Step 2:\n",
    "Convert the float column 'overall' to sentiment string values "
   ]
  },
  {
   "cell_type": "code",
   "execution_count": 7,
   "metadata": {},
   "outputs": [],
   "source": [
    "#Creating a simple function to return sentiment type\n",
    "def sentimentType(score):\n",
    "    if score == 4.0 or score == 5.0:\n",
    "        return 'Positive'\n",
    "    elif score == 3.0:\n",
    "        return 'Neutral'\n",
    "    elif score == 1.0 or score == 2.0:\n",
    "        return 'Negative'"
   ]
  },
  {
   "cell_type": "code",
   "execution_count": 8,
   "metadata": {},
   "outputs": [
    {
     "data": {
      "text/html": [
       "<div>\n",
       "<style scoped>\n",
       "    .dataframe tbody tr th:only-of-type {\n",
       "        vertical-align: middle;\n",
       "    }\n",
       "\n",
       "    .dataframe tbody tr th {\n",
       "        vertical-align: top;\n",
       "    }\n",
       "\n",
       "    .dataframe thead th {\n",
       "        text-align: right;\n",
       "    }\n",
       "</style>\n",
       "<table border=\"1\" class=\"dataframe\">\n",
       "  <thead>\n",
       "    <tr style=\"text-align: right;\">\n",
       "      <th></th>\n",
       "      <th>reviewerName</th>\n",
       "      <th>overall</th>\n",
       "      <th>reviewText</th>\n",
       "      <th>reviewTime</th>\n",
       "      <th>day_diff</th>\n",
       "      <th>helpful_yes</th>\n",
       "      <th>helpful_no</th>\n",
       "      <th>total_vote</th>\n",
       "      <th>score_pos_neg_diff</th>\n",
       "      <th>score_average_rating</th>\n",
       "      <th>wilson_lower_bound</th>\n",
       "    </tr>\n",
       "  </thead>\n",
       "  <tbody>\n",
       "    <tr>\n",
       "      <th>0</th>\n",
       "      <td>NaN</td>\n",
       "      <td>Positive</td>\n",
       "      <td>No issues.</td>\n",
       "      <td>2014-07-23</td>\n",
       "      <td>138</td>\n",
       "      <td>0</td>\n",
       "      <td>0</td>\n",
       "      <td>0</td>\n",
       "      <td>0</td>\n",
       "      <td>0.0</td>\n",
       "      <td>0.0</td>\n",
       "    </tr>\n",
       "    <tr>\n",
       "      <th>1</th>\n",
       "      <td>0mie</td>\n",
       "      <td>Positive</td>\n",
       "      <td>Purchased this for my device, it worked as adv...</td>\n",
       "      <td>2013-10-25</td>\n",
       "      <td>409</td>\n",
       "      <td>0</td>\n",
       "      <td>0</td>\n",
       "      <td>0</td>\n",
       "      <td>0</td>\n",
       "      <td>0.0</td>\n",
       "      <td>0.0</td>\n",
       "    </tr>\n",
       "    <tr>\n",
       "      <th>2</th>\n",
       "      <td>1K3</td>\n",
       "      <td>Positive</td>\n",
       "      <td>it works as expected. I should have sprung for...</td>\n",
       "      <td>2012-12-23</td>\n",
       "      <td>715</td>\n",
       "      <td>0</td>\n",
       "      <td>0</td>\n",
       "      <td>0</td>\n",
       "      <td>0</td>\n",
       "      <td>0.0</td>\n",
       "      <td>0.0</td>\n",
       "    </tr>\n",
       "    <tr>\n",
       "      <th>3</th>\n",
       "      <td>1m2</td>\n",
       "      <td>Positive</td>\n",
       "      <td>This think has worked out great.Had a diff. br...</td>\n",
       "      <td>2013-11-21</td>\n",
       "      <td>382</td>\n",
       "      <td>0</td>\n",
       "      <td>0</td>\n",
       "      <td>0</td>\n",
       "      <td>0</td>\n",
       "      <td>0.0</td>\n",
       "      <td>0.0</td>\n",
       "    </tr>\n",
       "    <tr>\n",
       "      <th>4</th>\n",
       "      <td>2&amp;amp;1/2Men</td>\n",
       "      <td>Positive</td>\n",
       "      <td>Bought it with Retail Packaging, arrived legit...</td>\n",
       "      <td>2013-07-13</td>\n",
       "      <td>513</td>\n",
       "      <td>0</td>\n",
       "      <td>0</td>\n",
       "      <td>0</td>\n",
       "      <td>0</td>\n",
       "      <td>0.0</td>\n",
       "      <td>0.0</td>\n",
       "    </tr>\n",
       "  </tbody>\n",
       "</table>\n",
       "</div>"
      ],
      "text/plain": [
       "   reviewerName   overall                                         reviewText  \\\n",
       "0           NaN  Positive                                         No issues.   \n",
       "1          0mie  Positive  Purchased this for my device, it worked as adv...   \n",
       "2           1K3  Positive  it works as expected. I should have sprung for...   \n",
       "3           1m2  Positive  This think has worked out great.Had a diff. br...   \n",
       "4  2&amp;1/2Men  Positive  Bought it with Retail Packaging, arrived legit...   \n",
       "\n",
       "   reviewTime  day_diff  helpful_yes  helpful_no  total_vote  \\\n",
       "0  2014-07-23       138            0           0           0   \n",
       "1  2013-10-25       409            0           0           0   \n",
       "2  2012-12-23       715            0           0           0   \n",
       "3  2013-11-21       382            0           0           0   \n",
       "4  2013-07-13       513            0           0           0   \n",
       "\n",
       "   score_pos_neg_diff  score_average_rating  wilson_lower_bound  \n",
       "0                   0                   0.0                 0.0  \n",
       "1                   0                   0.0                 0.0  \n",
       "2                   0                   0.0                 0.0  \n",
       "3                   0                   0.0                 0.0  \n",
       "4                   0                   0.0                 0.0  "
      ]
     },
     "execution_count": 8,
     "metadata": {},
     "output_type": "execute_result"
    }
   ],
   "source": [
    "#Applying the function created earlier to the overall column\n",
    "reviews['overall'] = reviews['overall'].apply(sentimentType)\n",
    "reviews.head()"
   ]
  },
  {
   "cell_type": "code",
   "execution_count": 23,
   "metadata": {},
   "outputs": [
    {
     "data": {
      "text/plain": [
       "Text(0.5, 0, 'Sentiment Type')"
      ]
     },
     "execution_count": 23,
     "metadata": {},
     "output_type": "execute_result"
    },
    {
     "data": {
      "image/png": "[encoded data removed]",
      "text/plain": [
       "<Figure size 432x288 with 1 Axes>"
      ]
     },
     "metadata": {
      "needs_background": "light"
     },
     "output_type": "display_data"
    }
   ],
   "source": [
    "#Visualizing the data after converting overall column to string values \n",
    "ax = reviews['overall'].value_counts().plot(kind='bar', grid=True, colormap='gray')\n",
    "ax.bar_label(ax.containers[0])\n",
    "plt.title('Sentiment Analysis')\n",
    "plt.ylabel('Values')\n",
    "plt.xlabel('Sentiment Type')"
   ]
  },
  {
   "attachments": {},
   "cell_type": "markdown",
   "metadata": {},
   "source": [
    "## Step 3:\n",
    "Explore the reviewText column and convert to string type/lower case "
   ]
  },
  {
   "cell_type": "code",
   "execution_count": 47,
   "metadata": {},
   "outputs": [],
   "source": [
    "#Converting the values in reviewText to string values and changing the case to lower\n",
    "reviews['reviewText'] = reviews['reviewText'].astype(str).apply(lambda text: text.lower())"
   ]
  },
  {
   "cell_type": "code",
   "execution_count": 50,
   "metadata": {},
   "outputs": [],
   "source": [
    "stop_words = set(stopwords.words(\"english\"))\n",
    "\n",
    "def text_processing(text):\n",
    "    text = re.sub(r\"https?\\S+|www\\S+\", \"\", text)\n",
    "    text = re.sub(r\"@\\w+|#\", \"\", text)\n",
    "    text = re.sub(r\"[^\\w\\s]\", \"\", text)\n",
    "    text_tokens = word_tokenize(text.lower())\n",
    "    filtered_text = [i for i in text_tokens if i not in stop_words]\n",
    "    return \" \".join(filtered_text)"
   ]
  },
  {
   "cell_type": "code",
   "execution_count": 56,
   "metadata": {},
   "outputs": [],
   "source": [
    "reviews[\"reviewText\"] = reviews['reviewText'].apply(text_processing)"
   ]
  },
  {
   "cell_type": "code",
   "execution_count": null,
   "metadata": {},
   "outputs": [],
   "source": []
  }
 ],
 "metadata": {
  "kernelspec": {
   "display_name": "base",
   "language": "python",
   "name": "python3"
  },
  "language_info": {
   "codemirror_mode": {
    "name": "ipython",
    "version": 3
   },
   "file_extension": ".py",
   "mimetype": "text/x-python",
   "name": "python",
   "nbconvert_exporter": "python",
   "pygments_lexer": "ipython3",
   "version": "3.9.12"
  },
  "orig_nbformat": 4
 },
 "nbformat": 4,
 "nbformat_minor": 2
}
