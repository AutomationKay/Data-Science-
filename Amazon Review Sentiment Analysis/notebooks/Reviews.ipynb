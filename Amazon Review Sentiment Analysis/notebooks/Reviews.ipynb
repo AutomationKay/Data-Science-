{
 "cells": [
  {
   "attachments": {},
   "cell_type": "markdown",
   "metadata": {},
   "source": [
    "## Amazon Customer Review Sentiment Analysis"
   ]
  },
  {
   "cell_type": "code",
   "execution_count": 103,
   "metadata": {},
   "outputs": [
    {
     "name": "stdout",
     "output_type": "stream",
     "text": [
      "Requirement already satisfied: pip in c:\\users\\bartl\\anaconda3\\lib\\site-packages (21.2.4)\n",
      "Collecting pip\n",
      "  Downloading pip-23.1.2-py3-none-any.whl (2.1 MB)\n",
      "Installing collected packages: pip\n",
      "  Attempting uninstall: pip\n",
      "    Found existing installation: pip 21.2.4\n",
      "    Uninstalling pip-21.2.4:\n",
      "      Successfully uninstalled pip-21.2.4\n",
      "Successfully installed pip-23.1.2\n",
      "Requirement already satisfied: Pillow in c:\\users\\bartl\\anaconda3\\lib\\site-packages (9.0.1)\n",
      "Collecting Pillow\n",
      "  Downloading Pillow-10.0.0-cp39-cp39-win_amd64.whl (2.5 MB)\n",
      "     ---------------------------------------- 2.5/2.5 MB 12.3 MB/s eta 0:00:00\n",
      "Installing collected packages: Pillow\n",
      "  Attempting uninstall: Pillow\n",
      "    Found existing installation: Pillow 9.0.1\n",
      "    Uninstalling Pillow-9.0.1:\n",
      "      Successfully uninstalled Pillow-9.0.1\n",
      "Successfully installed Pillow-10.0.0\n"
     ]
    }
   ],
   "source": [
    "!pip install --upgrade pip\n",
    "!pip install --upgrade Pillow"
   ]
  },
  {
   "cell_type": "code",
   "execution_count": 104,
   "metadata": {},
   "outputs": [
    {
     "name": "stderr",
     "output_type": "stream",
     "text": [
      "[nltk_data] Downloading package wordnet to\n",
      "[nltk_data]     C:\\Users\\bartl\\AppData\\Roaming\\nltk_data...\n",
      "[nltk_data]   Package wordnet is already up-to-date!\n",
      "[nltk_data] Downloading package stopwords to\n",
      "[nltk_data]     C:\\Users\\bartl\\AppData\\Roaming\\nltk_data...\n",
      "[nltk_data]   Package stopwords is already up-to-date!\n",
      "[nltk_data] Downloading package punkt to\n",
      "[nltk_data]     C:\\Users\\bartl\\AppData\\Roaming\\nltk_data...\n",
      "[nltk_data]   Package punkt is already up-to-date!\n"
     ]
    }
   ],
   "source": [
    "#Core packages\n",
    "import pandas as pd\n",
    "import numpy as np\n",
    "import matplotlib.pyplot as plt\n",
    "from textblob import TextBlob   \n",
    "import re\n",
    "import seaborn as sns\n",
    "import nltk\n",
    "from nltk import word_tokenize\n",
    "from nltk.corpus import stopwords\n",
    "from nltk.stem import PorterStemmer\n",
    "nltk.download('wordnet')\n",
    "nltk.download('stopwords')\n",
    "nltk.download('punkt')\n",
    "#Packages for model\n",
    "\n",
    "\n",
    "#Packages for evaluation\n",
    "from wordcloud import WordCloud\n",
    "\n",
    "#Filters and display options\n",
    "import warnings\n",
    "warnings.filterwarnings('ignore')\n",
    "warnings.warn(\"text too long\")\n",
    "pd.set_option('display.max_columns', None)\n",
    "%matplotlib inline\n",
    "stop_words = set(stopwords.words('english'))"
   ]
  },
  {
   "cell_type": "code",
   "execution_count": 3,
   "metadata": {},
   "outputs": [],
   "source": [
    "#Starting off by importing the csv file and reading the data\n",
    "reviews = pd.read_csv('../data/amazon_reviews.csv', index_col=0)"
   ]
  },
  {
   "cell_type": "code",
   "execution_count": 32,
   "metadata": {},
   "outputs": [],
   "source": [
    "#Creating a function for data frame summary statistics and viewing the data frame\n",
    "def overview(df, head=5, tail=5):\n",
    "   print(\"  TYPES   \".center(82, '-'))\n",
    "   print(df.dtypes)\n",
    "   \n",
    "   print(\"  SHAPE   \".center(82,'-'))\n",
    "   print(f\"Rows: {df.shape[0]}\")\n",
    "   print(f\"Columns: {df.shape[1]}\")\n",
    "   \n",
    "   print(\"  DUPLICATES  \".center(82,'-'))\n",
    "   print(df.duplicated().sum())\n",
    "   \n",
    "   print(\"  NaN VALUES\".center(82,'-'))\n",
    "   print(df.isna().sum())\n",
    "   \n",
    "   print(\"  QUANTILES   \".center(82,'-'))\n",
    "   print(df.quantile([0,0.05,0.50,0.95,0.99,1]).T)\n",
    "   \n",
    "   print(\"  DATAFRAME PREVIEW   \".center(82, '-'))\n",
    "   print(df.head(n=5))\n",
    "   print(df.tail(n=5))"
   ]
  },
  {
   "cell_type": "code",
   "execution_count": 42,
   "metadata": {},
   "outputs": [
    {
     "name": "stdout",
     "output_type": "stream",
     "text": [
      "------------------------------------  TYPES   ------------------------------------\n",
      "reviewerName             object\n",
      "overall                  object\n",
      "reviewText               object\n",
      "reviewTime               object\n",
      "day_diff                  int64\n",
      "helpful_yes               int64\n",
      "helpful_no                int64\n",
      "total_vote                int64\n",
      "score_pos_neg_diff        int64\n",
      "score_average_rating    float64\n",
      "wilson_lower_bound      float64\n",
      "dtype: object\n",
      "------------------------------------  SHAPE   ------------------------------------\n",
      "Rows: 4914\n",
      "Columns: 11\n",
      "----------------------------------  DUPLICATES  ----------------------------------\n",
      "0\n",
      "-----------------------------------  NaN VALUES-----------------------------------\n",
      "reviewerName            0\n",
      "overall                 0\n",
      "reviewText              0\n",
      "reviewTime              0\n",
      "day_diff                0\n",
      "helpful_yes             0\n",
      "helpful_no              0\n",
      "total_vote              0\n",
      "score_pos_neg_diff      0\n",
      "score_average_rating    0\n",
      "wilson_lower_bound      0\n",
      "dtype: int64\n",
      "----------------------------------  QUANTILES   ----------------------------------\n",
      "                       0.00  0.05   0.50        0.95       0.99         1.00\n",
      "day_diff                1.0  98.0  431.0  747.350000  943.00000  1064.000000\n",
      "helpful_yes             0.0   0.0    0.0    1.000000    3.00000  1952.000000\n",
      "helpful_no              0.0   0.0    0.0    0.000000    2.00000   183.000000\n",
      "total_vote              0.0   0.0    0.0    1.000000    4.00000  2020.000000\n",
      "score_pos_neg_diff   -130.0   0.0    0.0    1.000000    2.00000  1884.000000\n",
      "score_average_rating    0.0   0.0    0.0    1.000000    1.00000     1.000000\n",
      "wilson_lower_bound      0.0   0.0    0.0    0.206549    0.34238     0.957544\n",
      "------------------------------  DATAFRAME PREVIEW   ------------------------------\n",
      "   reviewerName   overall                                         reviewText  \\\n",
      "0    randomName  Positive                                         No issues.   \n",
      "1          0mie  Positive  Purchased this for my device, it worked as adv...   \n",
      "2           1K3  Positive  it works as expected. I should have sprung for...   \n",
      "3           1m2  Positive  This think has worked out great.Had a diff. br...   \n",
      "4  2&amp;1/2Men  Positive  Bought it with Retail Packaging, arrived legit...   \n",
      "\n",
      "   reviewTime  day_diff  helpful_yes  helpful_no  total_vote  \\\n",
      "0  2014-07-23       138            0           0           0   \n",
      "1  2013-10-25       409            0           0           0   \n",
      "2  2012-12-23       715            0           0           0   \n",
      "3  2013-11-21       382            0           0           0   \n",
      "4  2013-07-13       513            0           0           0   \n",
      "\n",
      "   score_pos_neg_diff  score_average_rating  wilson_lower_bound  \n",
      "0                   0                   0.0                 0.0  \n",
      "1                   0                   0.0                 0.0  \n",
      "2                   0                   0.0                 0.0  \n",
      "3                   0                   0.0                 0.0  \n",
      "4                   0                   0.0                 0.0  \n",
      "     reviewerName   overall  \\\n",
      "4910       ZM \"J\"  Negative   \n",
      "4911           Zo  Positive   \n",
      "4912    Z S Liske  Positive   \n",
      "4913     Z Taylor  Positive   \n",
      "4914          Zza  Positive   \n",
      "\n",
      "                                             reviewText  reviewTime  day_diff  \\\n",
      "4910  I bought this Sandisk 16GB Class 10 to use wit...  2013-07-23       503   \n",
      "4911  Used this for extending the capabilities of my...  2013-08-22       473   \n",
      "4912  Great card that is very fast and reliable. It ...  2014-03-31       252   \n",
      "4913  Good amount of space for the stuff I want to d...  2013-09-16       448   \n",
      "4914  I've heard bad things about this 64gb Micro SD...  2014-02-01       310   \n",
      "\n",
      "      helpful_yes  helpful_no  total_vote  score_pos_neg_diff  \\\n",
      "4910            0           0           0                   0   \n",
      "4911            0           0           0                   0   \n",
      "4912            0           0           0                   0   \n",
      "4913            0           0           0                   0   \n",
      "4914            0           0           0                   0   \n",
      "\n",
      "      score_average_rating  wilson_lower_bound  \n",
      "4910                   0.0                 0.0  \n",
      "4911                   0.0                 0.0  \n",
      "4912                   0.0                 0.0  \n",
      "4913                   0.0                 0.0  \n",
      "4914                   0.0                 0.0  \n"
     ]
    }
   ],
   "source": [
    "#Calling the function\n",
    "overview(reviews)"
   ]
  },
  {
   "attachments": {},
   "cell_type": "markdown",
   "metadata": {},
   "source": [
    "Based on the overview function call, we can see that most of the data frame columns are either int or float types. I can also see that there are 4915 rows spanning across 12 columns of data. As for null values there appear to only be 2, so there won't be much cleaning up to do of null values in this data set at first glance. I'm also viewing the first 5 and last 5 rows of the data frame to get a general understanding of what's contained in the data. Based on the nature of the data, it looks like the 'overall' column can be used as the target variable. The float type will be replaced with string values, 0-2 will be seen as negative, 3 will be neutral and 4-5 will be positive."
   ]
  },
  {
   "attachments": {},
   "cell_type": "markdown",
   "metadata": {},
   "source": [
    "## Step 1:\n",
    "Remove any NaN values"
   ]
  },
  {
   "cell_type": "code",
   "execution_count": 39,
   "metadata": {},
   "outputs": [
    {
     "data": {
      "text/plain": [
       "0      randomName\n",
       "1            0mie\n",
       "2             1K3\n",
       "3             1m2\n",
       "4    2&amp;1/2Men\n",
       "Name: reviewerName, dtype: object"
      ]
     },
     "execution_count": 39,
     "metadata": {},
     "output_type": "execute_result"
    }
   ],
   "source": [
    "#Taking a look at the NaN value before replacing it \n",
    "reviews['reviewerName'].head()"
   ]
  },
  {
   "attachments": {},
   "cell_type": "markdown",
   "metadata": {},
   "source": [
    "Since the only NaN value in this column is a customer name, we will assign a random name to the customer. This step is be taken since the reviewernames have no affect on our dataset. "
   ]
  },
  {
   "cell_type": "code",
   "execution_count": 38,
   "metadata": {},
   "outputs": [],
   "source": [
    "reviews['reviewerName'].fillna('randomName', inplace=True)"
   ]
  },
  {
   "attachments": {},
   "cell_type": "markdown",
   "metadata": {},
   "source": [
    "Next up is the reviewText column, since the contents of this column are going to be used later to perform sentiment analysis, any NaN values here will have to be dropped instead of replaced. To do this, I'm going to drop the entire row that contains the NaN value. "
   ]
  },
  {
   "cell_type": "code",
   "execution_count": 41,
   "metadata": {},
   "outputs": [],
   "source": [
    "reviews.dropna(inplace=True)"
   ]
  },
  {
   "attachments": {},
   "cell_type": "markdown",
   "metadata": {},
   "source": [
    "## Step 2:\n",
    "Convert the float column 'overall' to sentiment string values "
   ]
  },
  {
   "cell_type": "code",
   "execution_count": 7,
   "metadata": {},
   "outputs": [],
   "source": [
    "#Creating a simple function to return sentiment type\n",
    "def sentimentType(score):\n",
    "    if score == 4.0 or score == 5.0:\n",
    "        return 'Positive'\n",
    "    elif score == 3.0:\n",
    "        return 'Neutral'\n",
    "    elif score == 1.0 or score == 2.0:\n",
    "        return 'Negative'"
   ]
  },
  {
   "cell_type": "code",
   "execution_count": 8,
   "metadata": {},
   "outputs": [
    {
     "data": {
      "text/html": [
       "<div>\n",
       "<style scoped>\n",
       "    .dataframe tbody tr th:only-of-type {\n",
       "        vertical-align: middle;\n",
       "    }\n",
       "\n",
       "    .dataframe tbody tr th {\n",
       "        vertical-align: top;\n",
       "    }\n",
       "\n",
       "    .dataframe thead th {\n",
       "        text-align: right;\n",
       "    }\n",
       "</style>\n",
       "<table border=\"1\" class=\"dataframe\">\n",
       "  <thead>\n",
       "    <tr style=\"text-align: right;\">\n",
       "      <th></th>\n",
       "      <th>reviewerName</th>\n",
       "      <th>overall</th>\n",
       "      <th>reviewText</th>\n",
       "      <th>reviewTime</th>\n",
       "      <th>day_diff</th>\n",
       "      <th>helpful_yes</th>\n",
       "      <th>helpful_no</th>\n",
       "      <th>total_vote</th>\n",
       "      <th>score_pos_neg_diff</th>\n",
       "      <th>score_average_rating</th>\n",
       "      <th>wilson_lower_bound</th>\n",
       "    </tr>\n",
       "  </thead>\n",
       "  <tbody>\n",
       "    <tr>\n",
       "      <th>0</th>\n",
       "      <td>NaN</td>\n",
       "      <td>Positive</td>\n",
       "      <td>No issues.</td>\n",
       "      <td>2014-07-23</td>\n",
       "      <td>138</td>\n",
       "      <td>0</td>\n",
       "      <td>0</td>\n",
       "      <td>0</td>\n",
       "      <td>0</td>\n",
       "      <td>0.0</td>\n",
       "      <td>0.0</td>\n",
       "    </tr>\n",
       "    <tr>\n",
       "      <th>1</th>\n",
       "      <td>0mie</td>\n",
       "      <td>Positive</td>\n",
       "      <td>Purchased this for my device, it worked as adv...</td>\n",
       "      <td>2013-10-25</td>\n",
       "      <td>409</td>\n",
       "      <td>0</td>\n",
       "      <td>0</td>\n",
       "      <td>0</td>\n",
       "      <td>0</td>\n",
       "      <td>0.0</td>\n",
       "      <td>0.0</td>\n",
       "    </tr>\n",
       "    <tr>\n",
       "      <th>2</th>\n",
       "      <td>1K3</td>\n",
       "      <td>Positive</td>\n",
       "      <td>it works as expected. I should have sprung for...</td>\n",
       "      <td>2012-12-23</td>\n",
       "      <td>715</td>\n",
       "      <td>0</td>\n",
       "      <td>0</td>\n",
       "      <td>0</td>\n",
       "      <td>0</td>\n",
       "      <td>0.0</td>\n",
       "      <td>0.0</td>\n",
       "    </tr>\n",
       "    <tr>\n",
       "      <th>3</th>\n",
       "      <td>1m2</td>\n",
       "      <td>Positive</td>\n",
       "      <td>This think has worked out great.Had a diff. br...</td>\n",
       "      <td>2013-11-21</td>\n",
       "      <td>382</td>\n",
       "      <td>0</td>\n",
       "      <td>0</td>\n",
       "      <td>0</td>\n",
       "      <td>0</td>\n",
       "      <td>0.0</td>\n",
       "      <td>0.0</td>\n",
       "    </tr>\n",
       "    <tr>\n",
       "      <th>4</th>\n",
       "      <td>2&amp;amp;1/2Men</td>\n",
       "      <td>Positive</td>\n",
       "      <td>Bought it with Retail Packaging, arrived legit...</td>\n",
       "      <td>2013-07-13</td>\n",
       "      <td>513</td>\n",
       "      <td>0</td>\n",
       "      <td>0</td>\n",
       "      <td>0</td>\n",
       "      <td>0</td>\n",
       "      <td>0.0</td>\n",
       "      <td>0.0</td>\n",
       "    </tr>\n",
       "  </tbody>\n",
       "</table>\n",
       "</div>"
      ],
      "text/plain": [
       "   reviewerName   overall                                         reviewText  \\\n",
       "0           NaN  Positive                                         No issues.   \n",
       "1          0mie  Positive  Purchased this for my device, it worked as adv...   \n",
       "2           1K3  Positive  it works as expected. I should have sprung for...   \n",
       "3           1m2  Positive  This think has worked out great.Had a diff. br...   \n",
       "4  2&amp;1/2Men  Positive  Bought it with Retail Packaging, arrived legit...   \n",
       "\n",
       "   reviewTime  day_diff  helpful_yes  helpful_no  total_vote  \\\n",
       "0  2014-07-23       138            0           0           0   \n",
       "1  2013-10-25       409            0           0           0   \n",
       "2  2012-12-23       715            0           0           0   \n",
       "3  2013-11-21       382            0           0           0   \n",
       "4  2013-07-13       513            0           0           0   \n",
       "\n",
       "   score_pos_neg_diff  score_average_rating  wilson_lower_bound  \n",
       "0                   0                   0.0                 0.0  \n",
       "1                   0                   0.0                 0.0  \n",
       "2                   0                   0.0                 0.0  \n",
       "3                   0                   0.0                 0.0  \n",
       "4                   0                   0.0                 0.0  "
      ]
     },
     "execution_count": 8,
     "metadata": {},
     "output_type": "execute_result"
    }
   ],
   "source": [
    "#Applying the function created earlier to the overall column\n",
    "reviews['overall'] = reviews['overall'].apply(sentimentType)\n",
    "reviews.head()"
   ]
  },
  {
   "cell_type": "code",
   "execution_count": 23,
   "metadata": {},
   "outputs": [
    {
     "data": {
      "text/plain": [
       "Text(0.5, 0, 'Sentiment Type')"
      ]
     },
     "execution_count": 23,
     "metadata": {},
     "output_type": "execute_result"
    },
    {
     "data": {
      "image/png": "[encoded data removed]",
      "text/plain": [
       "<Figure size 432x288 with 1 Axes>"
      ]
     },
     "metadata": {
      "needs_background": "light"
     },
     "output_type": "display_data"
    }
   ],
   "source": [
    "#Visualizing the data after converting overall column to string values \n",
    "ax = reviews['overall'].value_counts().plot(kind='bar', grid=True, colormap='gray')\n",
    "ax.bar_label(ax.containers[0])\n",
    "plt.title('Sentiment Analysis')\n",
    "plt.ylabel('Values')\n",
    "plt.xlabel('Sentiment Type')"
   ]
  },
  {
   "attachments": {},
   "cell_type": "markdown",
   "metadata": {},
   "source": [
    "## Step 3:\n",
    "Explore the reviewText column and convert to string type/lower case "
   ]
  },
  {
   "cell_type": "code",
   "execution_count": 47,
   "metadata": {},
   "outputs": [],
   "source": [
    "#Converting the values in reviewText to string values and changing the case to lower\n",
    "reviews['reviewText'] = reviews['reviewText'].astype(str).apply(lambda text: text.lower())"
   ]
  },
  {
   "attachments": {},
   "cell_type": "markdown",
   "metadata": {},
   "source": [
    "Next, a function will be created to remove URLs, special characters, mentions and any non-alphanumeric characters from the reviews. The text will also be converted to lowercase and tokenized. Stopwords will be removed and stemmming will be performed - words will be converted to their base or root form. This will ensure that words aren't double counted. "
   ]
  },
  {
   "cell_type": "code",
   "execution_count": 62,
   "metadata": {},
   "outputs": [],
   "source": [
    "stop_words = set(stopwords.words(\"english\"))\n",
    "stemmer = PorterStemmer()\n",
    "\n",
    "def text_processing(text):\n",
    "    text = re.sub(r\"https?\\S+|www\\S+\", \"\", text)\n",
    "    text = re.sub(r\"@\\w+|#\", \"\", text)\n",
    "    text = re.sub(r\"[^\\w\\s]\", \"\", text)\n",
    "    text_tokens = word_tokenize(text.lower())\n",
    "    filtered_text = [i for i in text_tokens if i not in stop_words]\n",
    "    stem_wrods = [stemmer.stem(w) for w in filtered_text]\n",
    "    return \" \".join(stem_wrods)"
   ]
  },
  {
   "cell_type": "code",
   "execution_count": 63,
   "metadata": {},
   "outputs": [],
   "source": [
    "#Applying the function to the review dataset for preprocessing \n",
    "reviews[\"reviewText\"] = reviews['reviewText'].apply(text_processing)"
   ]
  },
  {
   "cell_type": "code",
   "execution_count": 64,
   "metadata": {},
   "outputs": [],
   "source": [
    "#Saving the first few lines of reviews to a sample dataframe for review\n",
    "sample_reviews = reviews['reviewText'].head(10)"
   ]
  },
  {
   "cell_type": "code",
   "execution_count": 65,
   "metadata": {},
   "outputs": [],
   "source": [
    "#Dropping all duplicates values in each comment\n",
    "reviews = reviews.drop_duplicates('reviewText')"
   ]
  },
  {
   "cell_type": "code",
   "execution_count": 72,
   "metadata": {},
   "outputs": [
    {
     "data": {
      "image/png": "[encoded data removed]",
      "text/plain": [
       "<Figure size 576x432 with 1 Axes>"
      ]
     },
     "metadata": {},
     "output_type": "display_data"
    }
   ],
   "source": [
    "sentiment_counts = reviews['overall'].value_counts(normalize=True) * 100\n",
    "colors = ['skyblue', 'lightgreen', 'lightcoral', 'orange', 'pink']\n",
    "explode = (0.1, 0.1, 0.1)\n",
    "#Plotting the pie chart\n",
    "plt.figure(figsize=(8,6))\n",
    "plt.pie(sentiment_counts, labels=sentiment_counts.index, autopct='%1.1f%%', colors=colors, explode=explode)\n",
    "plt.title('Sentiment Distribution')\n",
    "plt.show()"
   ]
  },
  {
   "attachments": {},
   "cell_type": "markdown",
   "metadata": {},
   "source": [
    "Based on the pie chart we can see that about 90.5% of reviews for this product were positive, 6.6% were negative and 2.9% neutral. Based on those numbers, we know two things:\n",
    "1. This product looks to be a succesful product for the business based on reviews, but the revenue attributed to the product would have to be investigated before making a confident decision on the product.\n",
    "2. We should perform outreach to 9.5% of the customers that reviewed this product, that is a sum of both the neutral and negative reviews. We should reach out to the negative comments to understand what was there experience and how could we make improvements. For the neutral reviews we should also be reaching out to understand what they liked about the product and what was missing from the product that stopped them from truly loving it. "
   ]
  },
  {
   "attachments": {},
   "cell_type": "markdown",
   "metadata": {},
   "source": [
    "## Step 4:\n",
    "Creating a visual representation of the most common words found in each of the three categories:\n",
    "1. Positive\n",
    "2. Neutral\n",
    "3. Negative"
   ]
  },
  {
   "cell_type": "code",
   "execution_count": 131,
   "metadata": {},
   "outputs": [],
   "source": [
    "font_path = \"C:/Windows/Fonts/arial.ttf\"\n",
    "\n",
    "#Defining a function to count and visualize the number \n",
    "def frequent_words(comments):\n",
    "    text = ' '.join([word for word in comments['reviewText']])\n",
    "    plt.figure(figsize = (15,15), facecolor='None')\n",
    "    wordcloud = WordCloud(max_words=500, width=1600, height=800).generate(text)\n",
    "    plt.imshow(wordcloud,interpolation='bilinear')\n",
    "    plt.axis('off')\n",
    "    plt.title(f'Most frequent words in {comments}', fontsize=19)\n",
    "    plt.show()"
   ]
  },
  {
   "cell_type": "code",
   "execution_count": 129,
   "metadata": {},
   "outputs": [],
   "source": [
    "#Creating variables to isolate the positive, neutral and negative comments\n",
    "positive_comments = reviews[reviews['overall'] == 'Positive']\n",
    "neutral_comments = reviews[reviews['overall'] == 'Neutral'] \n",
    "negative_comments = reviews[reviews['overall'] == 'Negative']  "
   ]
  },
  {
   "cell_type": "code",
   "execution_count": 132,
   "metadata": {},
   "outputs": [
    {
     "ename": "ValueError",
     "evalue": "Only supported for TrueType fonts",
     "output_type": "error",
     "traceback": [
      "\u001b[1;31m---------------------------------------------------------------------------\u001b[0m",
      "\u001b[1;31mValueError\u001b[0m                                Traceback (most recent call last)",
      "\u001b[1;32mc:\\Users\\bartl\\Desktop\\Data-Science-\\Amazon Review Sentiment Analysis\\notebooks\\Reviews.ipynb Cell 30\u001b[0m in \u001b[0;36m<cell line: 1>\u001b[1;34m()\u001b[0m\n\u001b[1;32m----> <a href='vscode-notebook-cell:/c%3A/Users/bartl/Desktop/Data-Science-/Amazon%20Review%20Sentiment%20Analysis/notebooks/Reviews.ipynb#X61sZmlsZQ%3D%3D?line=0'>1</a>\u001b[0m frequent_words(positive_comments)\n",
      "\u001b[1;32mc:\\Users\\bartl\\Desktop\\Data-Science-\\Amazon Review Sentiment Analysis\\notebooks\\Reviews.ipynb Cell 30\u001b[0m in \u001b[0;36mfrequent_words\u001b[1;34m(comments)\u001b[0m\n\u001b[0;32m      <a href='vscode-notebook-cell:/c%3A/Users/bartl/Desktop/Data-Science-/Amazon%20Review%20Sentiment%20Analysis/notebooks/Reviews.ipynb#X61sZmlsZQ%3D%3D?line=4'>5</a>\u001b[0m text \u001b[39m=\u001b[39m \u001b[39m'\u001b[39m\u001b[39m \u001b[39m\u001b[39m'\u001b[39m\u001b[39m.\u001b[39mjoin([word \u001b[39mfor\u001b[39;00m word \u001b[39min\u001b[39;00m comments[\u001b[39m'\u001b[39m\u001b[39mreviewText\u001b[39m\u001b[39m'\u001b[39m]])\n\u001b[0;32m      <a href='vscode-notebook-cell:/c%3A/Users/bartl/Desktop/Data-Science-/Amazon%20Review%20Sentiment%20Analysis/notebooks/Reviews.ipynb#X61sZmlsZQ%3D%3D?line=5'>6</a>\u001b[0m plt\u001b[39m.\u001b[39mfigure(figsize \u001b[39m=\u001b[39m (\u001b[39m15\u001b[39m,\u001b[39m15\u001b[39m), facecolor\u001b[39m=\u001b[39m\u001b[39m'\u001b[39m\u001b[39mNone\u001b[39m\u001b[39m'\u001b[39m)\n\u001b[1;32m----> <a href='vscode-notebook-cell:/c%3A/Users/bartl/Desktop/Data-Science-/Amazon%20Review%20Sentiment%20Analysis/notebooks/Reviews.ipynb#X61sZmlsZQ%3D%3D?line=6'>7</a>\u001b[0m wordcloud \u001b[39m=\u001b[39m WordCloud(max_words\u001b[39m=\u001b[39;49m\u001b[39m500\u001b[39;49m, width\u001b[39m=\u001b[39;49m\u001b[39m1600\u001b[39;49m, height\u001b[39m=\u001b[39;49m\u001b[39m800\u001b[39;49m)\u001b[39m.\u001b[39;49mgenerate(text)\n\u001b[0;32m      <a href='vscode-notebook-cell:/c%3A/Users/bartl/Desktop/Data-Science-/Amazon%20Review%20Sentiment%20Analysis/notebooks/Reviews.ipynb#X61sZmlsZQ%3D%3D?line=7'>8</a>\u001b[0m plt\u001b[39m.\u001b[39mimshow(wordcloud,interpolation\u001b[39m=\u001b[39m\u001b[39m'\u001b[39m\u001b[39mbilinear\u001b[39m\u001b[39m'\u001b[39m)\n\u001b[0;32m      <a href='vscode-notebook-cell:/c%3A/Users/bartl/Desktop/Data-Science-/Amazon%20Review%20Sentiment%20Analysis/notebooks/Reviews.ipynb#X61sZmlsZQ%3D%3D?line=8'>9</a>\u001b[0m plt\u001b[39m.\u001b[39maxis(\u001b[39m'\u001b[39m\u001b[39moff\u001b[39m\u001b[39m'\u001b[39m)\n",
      "File \u001b[1;32mc:\\Users\\bartl\\anaconda3\\lib\\site-packages\\wordcloud\\wordcloud.py:639\u001b[0m, in \u001b[0;36mWordCloud.generate\u001b[1;34m(self, text)\u001b[0m\n\u001b[0;32m    624\u001b[0m \u001b[39mdef\u001b[39;00m \u001b[39mgenerate\u001b[39m(\u001b[39mself\u001b[39m, text):\n\u001b[0;32m    625\u001b[0m     \u001b[39m\"\"\"Generate wordcloud from text.\u001b[39;00m\n\u001b[0;32m    626\u001b[0m \n\u001b[0;32m    627\u001b[0m \u001b[39m    The input \"text\" is expected to be a natural text. If you pass a sorted\u001b[39;00m\n\u001b[1;32m   (...)\u001b[0m\n\u001b[0;32m    637\u001b[0m \u001b[39m    self\u001b[39;00m\n\u001b[0;32m    638\u001b[0m \u001b[39m    \"\"\"\u001b[39;00m\n\u001b[1;32m--> 639\u001b[0m     \u001b[39mreturn\u001b[39;00m \u001b[39mself\u001b[39;49m\u001b[39m.\u001b[39;49mgenerate_from_text(text)\n",
      "File \u001b[1;32mc:\\Users\\bartl\\anaconda3\\lib\\site-packages\\wordcloud\\wordcloud.py:621\u001b[0m, in \u001b[0;36mWordCloud.generate_from_text\u001b[1;34m(self, text)\u001b[0m\n\u001b[0;32m    604\u001b[0m \u001b[39m\"\"\"Generate wordcloud from text.\u001b[39;00m\n\u001b[0;32m    605\u001b[0m \n\u001b[0;32m    606\u001b[0m \u001b[39mThe input \"text\" is expected to be a natural text. If you pass a sorted\u001b[39;00m\n\u001b[1;32m   (...)\u001b[0m\n\u001b[0;32m    618\u001b[0m \u001b[39mself\u001b[39;00m\n\u001b[0;32m    619\u001b[0m \u001b[39m\"\"\"\u001b[39;00m\n\u001b[0;32m    620\u001b[0m words \u001b[39m=\u001b[39m \u001b[39mself\u001b[39m\u001b[39m.\u001b[39mprocess_text(text)\n\u001b[1;32m--> 621\u001b[0m \u001b[39mself\u001b[39;49m\u001b[39m.\u001b[39;49mgenerate_from_frequencies(words)\n\u001b[0;32m    622\u001b[0m \u001b[39mreturn\u001b[39;00m \u001b[39mself\u001b[39m\n",
      "File \u001b[1;32mc:\\Users\\bartl\\anaconda3\\lib\\site-packages\\wordcloud\\wordcloud.py:453\u001b[0m, in \u001b[0;36mWordCloud.generate_from_frequencies\u001b[1;34m(self, frequencies, max_font_size)\u001b[0m\n\u001b[0;32m    451\u001b[0m     font_size \u001b[39m=\u001b[39m \u001b[39mself\u001b[39m\u001b[39m.\u001b[39mheight\n\u001b[0;32m    452\u001b[0m \u001b[39melse\u001b[39;00m:\n\u001b[1;32m--> 453\u001b[0m     \u001b[39mself\u001b[39;49m\u001b[39m.\u001b[39;49mgenerate_from_frequencies(\u001b[39mdict\u001b[39;49m(frequencies[:\u001b[39m2\u001b[39;49m]),\n\u001b[0;32m    454\u001b[0m                                    max_font_size\u001b[39m=\u001b[39;49m\u001b[39mself\u001b[39;49m\u001b[39m.\u001b[39;49mheight)\n\u001b[0;32m    455\u001b[0m     \u001b[39m# find font sizes\u001b[39;00m\n\u001b[0;32m    456\u001b[0m     sizes \u001b[39m=\u001b[39m [x[\u001b[39m1\u001b[39m] \u001b[39mfor\u001b[39;00m x \u001b[39min\u001b[39;00m \u001b[39mself\u001b[39m\u001b[39m.\u001b[39mlayout_]\n",
      "File \u001b[1;32mc:\\Users\\bartl\\anaconda3\\lib\\site-packages\\wordcloud\\wordcloud.py:508\u001b[0m, in \u001b[0;36mWordCloud.generate_from_frequencies\u001b[1;34m(self, frequencies, max_font_size)\u001b[0m\n\u001b[0;32m    505\u001b[0m transposed_font \u001b[39m=\u001b[39m ImageFont\u001b[39m.\u001b[39mTransposedFont(\n\u001b[0;32m    506\u001b[0m     font, orientation\u001b[39m=\u001b[39morientation)\n\u001b[0;32m    507\u001b[0m \u001b[39m# get size of resulting text\u001b[39;00m\n\u001b[1;32m--> 508\u001b[0m box_size \u001b[39m=\u001b[39m draw\u001b[39m.\u001b[39;49mtextbbox((\u001b[39m0\u001b[39;49m, \u001b[39m0\u001b[39;49m), word, font\u001b[39m=\u001b[39;49mtransposed_font, anchor\u001b[39m=\u001b[39;49m\u001b[39m\"\u001b[39;49m\u001b[39mlt\u001b[39;49m\u001b[39m\"\u001b[39;49m)\n\u001b[0;32m    509\u001b[0m \u001b[39m# find possible places using integral image:\u001b[39;00m\n\u001b[0;32m    510\u001b[0m result \u001b[39m=\u001b[39m occupancy\u001b[39m.\u001b[39msample_position(box_size[\u001b[39m3\u001b[39m] \u001b[39m+\u001b[39m \u001b[39mself\u001b[39m\u001b[39m.\u001b[39mmargin,\n\u001b[0;32m    511\u001b[0m                                    box_size[\u001b[39m2\u001b[39m] \u001b[39m+\u001b[39m \u001b[39mself\u001b[39m\u001b[39m.\u001b[39mmargin,\n\u001b[0;32m    512\u001b[0m                                    random_state)\n",
      "File \u001b[1;32mc:\\Users\\bartl\\anaconda3\\lib\\site-packages\\PIL\\ImageDraw.py:671\u001b[0m, in \u001b[0;36mImageDraw.textbbox\u001b[1;34m(self, xy, text, font, anchor, spacing, align, direction, features, language, stroke_width, embedded_color)\u001b[0m\n\u001b[0;32m    669\u001b[0m     font \u001b[39m=\u001b[39m \u001b[39mself\u001b[39m\u001b[39m.\u001b[39mgetfont()\n\u001b[0;32m    670\u001b[0m \u001b[39mif\u001b[39;00m \u001b[39mnot\u001b[39;00m \u001b[39misinstance\u001b[39m(font, ImageFont\u001b[39m.\u001b[39mFreeTypeFont):\n\u001b[1;32m--> 671\u001b[0m     \u001b[39mraise\u001b[39;00m \u001b[39mValueError\u001b[39;00m(\u001b[39m\"\u001b[39m\u001b[39mOnly supported for TrueType fonts\u001b[39m\u001b[39m\"\u001b[39m)\n\u001b[0;32m    672\u001b[0m mode \u001b[39m=\u001b[39m \u001b[39m\"\u001b[39m\u001b[39mRGBA\u001b[39m\u001b[39m\"\u001b[39m \u001b[39mif\u001b[39;00m embedded_color \u001b[39melse\u001b[39;00m \u001b[39mself\u001b[39m\u001b[39m.\u001b[39mfontmode\n\u001b[0;32m    673\u001b[0m bbox \u001b[39m=\u001b[39m font\u001b[39m.\u001b[39mgetbbox(\n\u001b[0;32m    674\u001b[0m     text, mode, direction, features, language, stroke_width, anchor\n\u001b[0;32m    675\u001b[0m )\n",
      "\u001b[1;31mValueError\u001b[0m: Only supported for TrueType fonts"
     ]
    },
    {
     "data": {
      "text/plain": [
       "<Figure size 1080x1080 with 0 Axes>"
      ]
     },
     "metadata": {},
     "output_type": "display_data"
    }
   ],
   "source": [
    "frequent_words(positive_comments)"
   ]
  },
  {
   "cell_type": "code",
   "execution_count": 113,
   "metadata": {},
   "outputs": [
    {
     "data": {
      "image/png": "[encoded data removed]",
      "text/plain": [
       "<Figure size 720x432 with 1 Axes>"
      ]
     },
     "metadata": {
      "needs_background": "light"
     },
     "output_type": "display_data"
    },
    {
     "data": {
      "image/png": "[encoded data removed]",
      "text/plain": [
       "<Figure size 720x432 with 1 Axes>"
      ]
     },
     "metadata": {
      "needs_background": "light"
     },
     "output_type": "display_data"
    },
    {
     "data": {
      "image/png": "[encoded data removed]",
      "text/plain": [
       "<Figure size 720x432 with 1 Axes>"
      ]
     },
     "metadata": {
      "needs_background": "light"
     },
     "output_type": "display_data"
    }
   ],
   "source": [
    "# Import the necessary libraries\n",
    "from collections import Counter\n",
    "\n",
    "# Define a function to count and visualize the most frequent words\n",
    "def frequent_words(comments, category):\n",
    "    text = ' '.join([word for word in comments['reviewText']])\n",
    "    word_tokens = text.split()\n",
    "    word_counter = Counter(word_tokens)\n",
    "    most_common = word_counter.most_common(10)  # Get the top 10 most frequent words\n",
    "\n",
    "    # Create a bar chart\n",
    "    plt.figure(figsize=(10, 6))\n",
    "    words, counts = zip(*most_common)\n",
    "    plt.bar(words, counts)\n",
    "    plt.title(f'Most frequent words in {category}')\n",
    "    plt.xlabel('Words')\n",
    "    plt.ylabel('Frequency')\n",
    "    plt.xticks(rotation=45)\n",
    "    plt.show()\n",
    "\n",
    "# Call the function for each category\n",
    "frequent_words(positive_comments, 'Positive')\n",
    "frequent_words(negative_comments, 'Negative')\n",
    "frequent_words(neutral_comments, 'Neutral')"
   ]
  },
  {
   "cell_type": "code",
   "execution_count": 125,
   "metadata": {},
   "outputs": [
    {
     "ename": "ValueError",
     "evalue": "Only supported for TrueType fonts",
     "output_type": "error",
     "traceback": [
      "\u001b[1;31m---------------------------------------------------------------------------\u001b[0m",
      "\u001b[1;31mValueError\u001b[0m                                Traceback (most recent call last)",
      "\u001b[1;32mc:\\Users\\bartl\\Desktop\\Data-Science-\\Amazon Review Sentiment Analysis\\notebooks\\Reviews.ipynb Cell 32\u001b[0m in \u001b[0;36m<cell line: 16>\u001b[1;34m()\u001b[0m\n\u001b[0;32m     <a href='vscode-notebook-cell:/c%3A/Users/bartl/Desktop/Data-Science-/Amazon%20Review%20Sentiment%20Analysis/notebooks/Reviews.ipynb#X65sZmlsZQ%3D%3D?line=12'>13</a>\u001b[0m     plt\u001b[39m.\u001b[39mshow()\n\u001b[0;32m     <a href='vscode-notebook-cell:/c%3A/Users/bartl/Desktop/Data-Science-/Amazon%20Review%20Sentiment%20Analysis/notebooks/Reviews.ipynb#X65sZmlsZQ%3D%3D?line=14'>15</a>\u001b[0m \u001b[39m# Call the function for each category\u001b[39;00m\n\u001b[1;32m---> <a href='vscode-notebook-cell:/c%3A/Users/bartl/Desktop/Data-Science-/Amazon%20Review%20Sentiment%20Analysis/notebooks/Reviews.ipynb#X65sZmlsZQ%3D%3D?line=15'>16</a>\u001b[0m frequent_words(positive_comments, \u001b[39m'\u001b[39;49m\u001b[39mPositive\u001b[39;49m\u001b[39m'\u001b[39;49m)\n\u001b[0;32m     <a href='vscode-notebook-cell:/c%3A/Users/bartl/Desktop/Data-Science-/Amazon%20Review%20Sentiment%20Analysis/notebooks/Reviews.ipynb#X65sZmlsZQ%3D%3D?line=16'>17</a>\u001b[0m frequent_words(negative_comments, \u001b[39m'\u001b[39m\u001b[39mNegative\u001b[39m\u001b[39m'\u001b[39m)\n\u001b[0;32m     <a href='vscode-notebook-cell:/c%3A/Users/bartl/Desktop/Data-Science-/Amazon%20Review%20Sentiment%20Analysis/notebooks/Reviews.ipynb#X65sZmlsZQ%3D%3D?line=17'>18</a>\u001b[0m frequent_words(neutral_comments, \u001b[39m'\u001b[39m\u001b[39mNeutral\u001b[39m\u001b[39m'\u001b[39m)\n",
      "\u001b[1;32mc:\\Users\\bartl\\Desktop\\Data-Science-\\Amazon Review Sentiment Analysis\\notebooks\\Reviews.ipynb Cell 32\u001b[0m in \u001b[0;36mfrequent_words\u001b[1;34m(comments, category)\u001b[0m\n\u001b[0;32m      <a href='vscode-notebook-cell:/c%3A/Users/bartl/Desktop/Data-Science-/Amazon%20Review%20Sentiment%20Analysis/notebooks/Reviews.ipynb#X65sZmlsZQ%3D%3D?line=4'>5</a>\u001b[0m \u001b[39mdef\u001b[39;00m \u001b[39mfrequent_words\u001b[39m(comments, category):\n\u001b[0;32m      <a href='vscode-notebook-cell:/c%3A/Users/bartl/Desktop/Data-Science-/Amazon%20Review%20Sentiment%20Analysis/notebooks/Reviews.ipynb#X65sZmlsZQ%3D%3D?line=5'>6</a>\u001b[0m     text \u001b[39m=\u001b[39m \u001b[39m'\u001b[39m\u001b[39m \u001b[39m\u001b[39m'\u001b[39m\u001b[39m.\u001b[39mjoin([word \u001b[39mfor\u001b[39;00m word \u001b[39min\u001b[39;00m comments[\u001b[39m'\u001b[39m\u001b[39mreviewText\u001b[39m\u001b[39m'\u001b[39m]])\n\u001b[1;32m----> <a href='vscode-notebook-cell:/c%3A/Users/bartl/Desktop/Data-Science-/Amazon%20Review%20Sentiment%20Analysis/notebooks/Reviews.ipynb#X65sZmlsZQ%3D%3D?line=6'>7</a>\u001b[0m     wordcloud \u001b[39m=\u001b[39m WordCloud(width\u001b[39m=\u001b[39;49m\u001b[39m800\u001b[39;49m, height\u001b[39m=\u001b[39;49m\u001b[39m400\u001b[39;49m, background_color\u001b[39m=\u001b[39;49m\u001b[39m'\u001b[39;49m\u001b[39mwhite\u001b[39;49m\u001b[39m'\u001b[39;49m, font_path\u001b[39m=\u001b[39;49mfont_path)\u001b[39m.\u001b[39;49mgenerate(text)\n\u001b[0;32m      <a href='vscode-notebook-cell:/c%3A/Users/bartl/Desktop/Data-Science-/Amazon%20Review%20Sentiment%20Analysis/notebooks/Reviews.ipynb#X65sZmlsZQ%3D%3D?line=8'>9</a>\u001b[0m     plt\u001b[39m.\u001b[39mfigure(figsize\u001b[39m=\u001b[39m(\u001b[39m10\u001b[39m, \u001b[39m6\u001b[39m))\n\u001b[0;32m     <a href='vscode-notebook-cell:/c%3A/Users/bartl/Desktop/Data-Science-/Amazon%20Review%20Sentiment%20Analysis/notebooks/Reviews.ipynb#X65sZmlsZQ%3D%3D?line=9'>10</a>\u001b[0m     plt\u001b[39m.\u001b[39mimshow(wordcloud, interpolation\u001b[39m=\u001b[39m\u001b[39m'\u001b[39m\u001b[39mbilinear\u001b[39m\u001b[39m'\u001b[39m)\n",
      "File \u001b[1;32mc:\\Users\\bartl\\anaconda3\\lib\\site-packages\\wordcloud\\wordcloud.py:639\u001b[0m, in \u001b[0;36mWordCloud.generate\u001b[1;34m(self, text)\u001b[0m\n\u001b[0;32m    624\u001b[0m \u001b[39mdef\u001b[39;00m \u001b[39mgenerate\u001b[39m(\u001b[39mself\u001b[39m, text):\n\u001b[0;32m    625\u001b[0m     \u001b[39m\"\"\"Generate wordcloud from text.\u001b[39;00m\n\u001b[0;32m    626\u001b[0m \n\u001b[0;32m    627\u001b[0m \u001b[39m    The input \"text\" is expected to be a natural text. If you pass a sorted\u001b[39;00m\n\u001b[1;32m   (...)\u001b[0m\n\u001b[0;32m    637\u001b[0m \u001b[39m    self\u001b[39;00m\n\u001b[0;32m    638\u001b[0m \u001b[39m    \"\"\"\u001b[39;00m\n\u001b[1;32m--> 639\u001b[0m     \u001b[39mreturn\u001b[39;00m \u001b[39mself\u001b[39;49m\u001b[39m.\u001b[39;49mgenerate_from_text(text)\n",
      "File \u001b[1;32mc:\\Users\\bartl\\anaconda3\\lib\\site-packages\\wordcloud\\wordcloud.py:621\u001b[0m, in \u001b[0;36mWordCloud.generate_from_text\u001b[1;34m(self, text)\u001b[0m\n\u001b[0;32m    604\u001b[0m \u001b[39m\"\"\"Generate wordcloud from text.\u001b[39;00m\n\u001b[0;32m    605\u001b[0m \n\u001b[0;32m    606\u001b[0m \u001b[39mThe input \"text\" is expected to be a natural text. If you pass a sorted\u001b[39;00m\n\u001b[1;32m   (...)\u001b[0m\n\u001b[0;32m    618\u001b[0m \u001b[39mself\u001b[39;00m\n\u001b[0;32m    619\u001b[0m \u001b[39m\"\"\"\u001b[39;00m\n\u001b[0;32m    620\u001b[0m words \u001b[39m=\u001b[39m \u001b[39mself\u001b[39m\u001b[39m.\u001b[39mprocess_text(text)\n\u001b[1;32m--> 621\u001b[0m \u001b[39mself\u001b[39;49m\u001b[39m.\u001b[39;49mgenerate_from_frequencies(words)\n\u001b[0;32m    622\u001b[0m \u001b[39mreturn\u001b[39;00m \u001b[39mself\u001b[39m\n",
      "File \u001b[1;32mc:\\Users\\bartl\\anaconda3\\lib\\site-packages\\wordcloud\\wordcloud.py:453\u001b[0m, in \u001b[0;36mWordCloud.generate_from_frequencies\u001b[1;34m(self, frequencies, max_font_size)\u001b[0m\n\u001b[0;32m    451\u001b[0m     font_size \u001b[39m=\u001b[39m \u001b[39mself\u001b[39m\u001b[39m.\u001b[39mheight\n\u001b[0;32m    452\u001b[0m \u001b[39melse\u001b[39;00m:\n\u001b[1;32m--> 453\u001b[0m     \u001b[39mself\u001b[39;49m\u001b[39m.\u001b[39;49mgenerate_from_frequencies(\u001b[39mdict\u001b[39;49m(frequencies[:\u001b[39m2\u001b[39;49m]),\n\u001b[0;32m    454\u001b[0m                                    max_font_size\u001b[39m=\u001b[39;49m\u001b[39mself\u001b[39;49m\u001b[39m.\u001b[39;49mheight)\n\u001b[0;32m    455\u001b[0m     \u001b[39m# find font sizes\u001b[39;00m\n\u001b[0;32m    456\u001b[0m     sizes \u001b[39m=\u001b[39m [x[\u001b[39m1\u001b[39m] \u001b[39mfor\u001b[39;00m x \u001b[39min\u001b[39;00m \u001b[39mself\u001b[39m\u001b[39m.\u001b[39mlayout_]\n",
      "File \u001b[1;32mc:\\Users\\bartl\\anaconda3\\lib\\site-packages\\wordcloud\\wordcloud.py:508\u001b[0m, in \u001b[0;36mWordCloud.generate_from_frequencies\u001b[1;34m(self, frequencies, max_font_size)\u001b[0m\n\u001b[0;32m    505\u001b[0m transposed_font \u001b[39m=\u001b[39m ImageFont\u001b[39m.\u001b[39mTransposedFont(\n\u001b[0;32m    506\u001b[0m     font, orientation\u001b[39m=\u001b[39morientation)\n\u001b[0;32m    507\u001b[0m \u001b[39m# get size of resulting text\u001b[39;00m\n\u001b[1;32m--> 508\u001b[0m box_size \u001b[39m=\u001b[39m draw\u001b[39m.\u001b[39;49mtextbbox((\u001b[39m0\u001b[39;49m, \u001b[39m0\u001b[39;49m), word, font\u001b[39m=\u001b[39;49mtransposed_font, anchor\u001b[39m=\u001b[39;49m\u001b[39m\"\u001b[39;49m\u001b[39mlt\u001b[39;49m\u001b[39m\"\u001b[39;49m)\n\u001b[0;32m    509\u001b[0m \u001b[39m# find possible places using integral image:\u001b[39;00m\n\u001b[0;32m    510\u001b[0m result \u001b[39m=\u001b[39m occupancy\u001b[39m.\u001b[39msample_position(box_size[\u001b[39m3\u001b[39m] \u001b[39m+\u001b[39m \u001b[39mself\u001b[39m\u001b[39m.\u001b[39mmargin,\n\u001b[0;32m    511\u001b[0m                                    box_size[\u001b[39m2\u001b[39m] \u001b[39m+\u001b[39m \u001b[39mself\u001b[39m\u001b[39m.\u001b[39mmargin,\n\u001b[0;32m    512\u001b[0m                                    random_state)\n",
      "File \u001b[1;32mc:\\Users\\bartl\\anaconda3\\lib\\site-packages\\PIL\\ImageDraw.py:671\u001b[0m, in \u001b[0;36mImageDraw.textbbox\u001b[1;34m(self, xy, text, font, anchor, spacing, align, direction, features, language, stroke_width, embedded_color)\u001b[0m\n\u001b[0;32m    669\u001b[0m     font \u001b[39m=\u001b[39m \u001b[39mself\u001b[39m\u001b[39m.\u001b[39mgetfont()\n\u001b[0;32m    670\u001b[0m \u001b[39mif\u001b[39;00m \u001b[39mnot\u001b[39;00m \u001b[39misinstance\u001b[39m(font, ImageFont\u001b[39m.\u001b[39mFreeTypeFont):\n\u001b[1;32m--> 671\u001b[0m     \u001b[39mraise\u001b[39;00m \u001b[39mValueError\u001b[39;00m(\u001b[39m\"\u001b[39m\u001b[39mOnly supported for TrueType fonts\u001b[39m\u001b[39m\"\u001b[39m)\n\u001b[0;32m    672\u001b[0m mode \u001b[39m=\u001b[39m \u001b[39m\"\u001b[39m\u001b[39mRGBA\u001b[39m\u001b[39m\"\u001b[39m \u001b[39mif\u001b[39;00m embedded_color \u001b[39melse\u001b[39;00m \u001b[39mself\u001b[39m\u001b[39m.\u001b[39mfontmode\n\u001b[0;32m    673\u001b[0m bbox \u001b[39m=\u001b[39m font\u001b[39m.\u001b[39mgetbbox(\n\u001b[0;32m    674\u001b[0m     text, mode, direction, features, language, stroke_width, anchor\n\u001b[0;32m    675\u001b[0m )\n",
      "\u001b[1;31mValueError\u001b[0m: Only supported for TrueType fonts"
     ]
    }
   ],
   "source": [
    "from wordcloud import WordCloud\n",
    "\n",
    "\n",
    "font_path = \"C:/Windows/Fonts/Arial.ttf\"\n",
    "def frequent_words(comments, category):\n",
    "    text = ' '.join([word for word in comments['reviewText']])\n",
    "    wordcloud = WordCloud(width=800, height=400, background_color='white', font_path=font_path).generate(text)\n",
    "    \n",
    "    plt.figure(figsize=(10, 6))\n",
    "    plt.imshow(wordcloud, interpolation='bilinear')\n",
    "    plt.title(f'Most frequent words in {category}')\n",
    "    plt.axis('off')\n",
    "    plt.show()\n",
    "\n",
    "# Call the function for each category\n",
    "frequent_words(positive_comments, 'Positive')\n",
    "frequent_words(negative_comments, 'Negative')\n",
    "frequent_words(neutral_comments, 'Neutral')"
   ]
  }
 ],
 "metadata": {
  "kernelspec": {
   "display_name": "base",
   "language": "python",
   "name": "python3"
  },
  "language_info": {
   "codemirror_mode": {
    "name": "ipython",
    "version": 3
   },
   "file_extension": ".py",
   "mimetype": "text/x-python",
   "name": "python",
   "nbconvert_exporter": "python",
   "pygments_lexer": "ipython3",
   "version": "3.9.12"
  },
  "orig_nbformat": 4
 },
 "nbformat": 4,
 "nbformat_minor": 2
}
