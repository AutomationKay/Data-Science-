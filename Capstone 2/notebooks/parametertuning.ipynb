{
 "cells": [
  {
   "cell_type": "code",
   "execution_count": 10,
   "metadata": {},
   "outputs": [],
   "source": [
    "import pandas as pd\n",
    "import numpy as np\n",
    "from sklearn.model_selection import GridSearchCV\n",
    "from sklearn.ensemble import RandomForestRegressor\n",
    "from xgboost import XGBRegressor"
   ]
  },
  {
   "cell_type": "code",
   "execution_count": 2,
   "metadata": {},
   "outputs": [],
   "source": [
    "testing_df = pd.read_csv('../data/testing_df.csv')\n",
    "testing_df.drop(['Unnamed: 0'], axis=1, inplace=True)"
   ]
  },
  {
   "cell_type": "code",
   "execution_count": 3,
   "metadata": {},
   "outputs": [
    {
     "name": "stdout",
     "output_type": "stream",
     "text": [
      "season             0\n",
      "player             0\n",
      "fg_pct             0\n",
      "blk_pct            0\n",
      "usg_pct            0\n",
      "fta_per_fga_pct    0\n",
      "vorp               0\n",
      "mov                3\n",
      "mp                 0\n",
      "fg3_pct            0\n",
      "tov_per_g          0\n",
      "drb_per_g          1\n",
      "mov_adj            3\n",
      "drb_pct            0\n",
      "tov_pct            0\n",
      "award_share        0\n",
      "dtype: int64\n"
     ]
    }
   ],
   "source": [
    "print(testing_df.isin([np.nan, np.inf, -np.inf]).sum())"
   ]
  },
  {
   "cell_type": "code",
   "execution_count": 4,
   "metadata": {},
   "outputs": [],
   "source": [
    "testing_df = testing_df.replace([np.nan, np.inf, -np.inf],0)"
   ]
  },
  {
   "cell_type": "code",
   "execution_count": 5,
   "metadata": {},
   "outputs": [
    {
     "name": "stdout",
     "output_type": "stream",
     "text": [
      "season             0\n",
      "player             0\n",
      "fg_pct             0\n",
      "blk_pct            0\n",
      "usg_pct            0\n",
      "fta_per_fga_pct    0\n",
      "vorp               0\n",
      "mov                0\n",
      "mp                 0\n",
      "fg3_pct            0\n",
      "tov_per_g          0\n",
      "drb_per_g          0\n",
      "mov_adj            0\n",
      "drb_pct            0\n",
      "tov_pct            0\n",
      "award_share        0\n",
      "dtype: int64\n"
     ]
    }
   ],
   "source": [
    "print(testing_df.isin([np.nan, np.inf, -np.inf]).sum())"
   ]
  },
  {
   "cell_type": "code",
   "execution_count": 6,
   "metadata": {},
   "outputs": [],
   "source": [
    "X = testing_df.drop(['player','season','award_share'], axis=1)\n",
    "y = testing_df['award_share']\n"
   ]
  },
  {
   "cell_type": "code",
   "execution_count": 7,
   "metadata": {},
   "outputs": [],
   "source": [
    "params = {\n",
    "    'n_estimators' : [100, 500, 1000],\n",
    "    'max_features': ['auto', 'sqrt', 'log2'],\n",
    "    'max_depth': [5, 10, 15, 20],\n",
    "    'min_samples_split': [2, 5, 10, 25],\n",
    "    'min_samples_leaf': [1, 2, 4, 8]\n",
    "}"
   ]
  },
  {
   "cell_type": "code",
   "execution_count": 11,
   "metadata": {},
   "outputs": [],
   "source": [
    "rf_model = RandomForestRegressor()\n",
    "xgb_model = XGBRegressor()"
   ]
  },
  {
   "cell_type": "code",
   "execution_count": 9,
   "metadata": {},
   "outputs": [
    {
     "name": "stdout",
     "output_type": "stream",
     "text": [
      "Best Hyperparameters: {'max_depth': 20, 'max_features': 'auto', 'min_samples_leaf': 4, 'min_samples_split': 10, 'n_estimators': 100}\n"
     ]
    }
   ],
   "source": [
    "grid_search = GridSearchCV(estimator=rf_model, param_grid=params, cv=5, n_jobs=-1)\n",
    "grid_search.fit(X,y)\n",
    "print(f\"Best Hyperparameters: {grid_search.best_params_}\")\n"
   ]
  },
  {
   "cell_type": "code",
   "execution_count": null,
   "metadata": {},
   "outputs": [],
   "source": [
    "grid_search = GridSearchCV(estimator=xgb_model, param_grid=params, cv=5, n_jobs=-1)\n",
    "grid_search.fit(X,y)\n",
    "print(f\"Best Hyperparameters: {grid_search.best_params_}\")"
   ]
  }
 ],
 "metadata": {
  "kernelspec": {
   "display_name": "base",
   "language": "python",
   "name": "python3"
  },
  "language_info": {
   "codemirror_mode": {
    "name": "ipython",
    "version": 3
   },
   "file_extension": ".py",
   "mimetype": "text/x-python",
   "name": "python",
   "nbconvert_exporter": "python",
   "pygments_lexer": "ipython3",
   "version": "3.9.12"
  },
  "orig_nbformat": 4
 },
 "nbformat": 4,
 "nbformat_minor": 2
}
